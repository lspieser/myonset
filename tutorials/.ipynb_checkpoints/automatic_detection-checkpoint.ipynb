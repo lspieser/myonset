{
 "cells": [
  {
   "cell_type": "markdown",
   "metadata": {},
   "source": [
    "Make the import"
   ]
  },
  {
   "cell_type": "code",
   "execution_count": 1,
   "metadata": {},
   "outputs": [],
   "source": [
    "import numpy as np\n",
    "import myonset as myo"
   ]
  },
  {
   "cell_type": "markdown",
   "metadata": {},
   "source": [
    "Load data and events"
   ]
  },
  {
   "cell_type": "code",
   "execution_count": 2,
   "metadata": {
    "scrolled": true
   },
   "outputs": [],
   "source": [
    "data = np.load('example_data.npy')"
   ]
  },
  {
   "cell_type": "code",
   "execution_count": 3,
   "metadata": {},
   "outputs": [],
   "source": [
    "events = myo.load_continuous('example_events.csv', col_sample=0, col_code=2, col_chan=3, sf=2048)"
   ]
  },
  {
   "cell_type": "markdown",
   "metadata": {},
   "source": [
    "## Segment based on events"
   ]
  },
  {
   "cell_type": "markdown",
   "metadata": {},
   "source": [
    "Set trigger id values used for segmentation (e.g., stimulus or fixation cross): adapt to your experiment"
   ]
  },
  {
   "cell_type": "code",
   "execution_count": 4,
   "metadata": {},
   "outputs": [],
   "source": [
    "code_t0 = [11,12,21,22]"
   ]
  },
  {
   "cell_type": "markdown",
   "metadata": {},
   "source": [
    "Segment and extract data epochs"
   ]
  },
  {
   "cell_type": "code",
   "execution_count": 5,
   "metadata": {},
   "outputs": [
    {
     "name": "stdout",
     "output_type": "stream",
     "text": [
      "Found 16 epoch(s).\n"
     ]
    }
   ],
   "source": [
    "epochs_events = events.segment(code_t0=code_t0, tmin=-0.5, tmax=1)\n",
    "epoch_time = myo.times(-0.5,1,events.sf)"
   ]
  },
  {
   "cell_type": "code",
   "execution_count": 6,
   "metadata": {},
   "outputs": [],
   "source": [
    "epochs_data = epochs_events.get_data(data)"
   ]
  },
  {
   "cell_type": "markdown",
   "metadata": {},
   "source": [
    "# Automatic detection of EMG onsets and offsets"
   ]
  },
  {
   "cell_type": "markdown",
   "metadata": {},
   "source": [
    "### Example to run automatic detection on trial 5, channel 1 "
   ]
  },
  {
   "cell_type": "code",
   "execution_count": 7,
   "metadata": {},
   "outputs": [],
   "source": [
    "current_epoch = 5\n",
    "current_channel = 0\n",
    "onsets,offsets = myo.get_onsets(epochs_data[current_epoch,current_channel,:], epoch_time, sf=epochs_events.sf,\\\n",
    "                                th_raw=5, use_raw=True, mbsl_raw=None, stbsl_raw=None,\\\n",
    "                                th_tkeo=10, use_tkeo=True, mbsl_tkeo=None, stbsl_tkeo=None)"
   ]
  },
  {
   "cell_type": "markdown",
   "metadata": {},
   "source": [
    "Visualize signal and onsets and offsets (blue and cyan crosses)"
   ]
  },
  {
   "cell_type": "code",
   "execution_count": 8,
   "metadata": {},
   "outputs": [
    {
     "data": {
      "image/png": "[encoded data removed]",
      "text/plain": [
       "<Figure size 432x288 with 1 Axes>"
      ]
     },
     "metadata": {
      "needs_background": "light"
     },
     "output_type": "display_data"
    }
   ],
   "source": [
    "myo.show_trial(epochs_data[current_epoch,current_channel,:], epoch_time, sf=epochs_events.sf,\\\n",
    "                           th_raw=5, use_raw=True, mbsl_raw=None, stbsl_raw=None,\\\n",
    "                           th_tkeo=10, use_tkeo=True, mbsl_tkeo=None, stbsl_tkeo=None)"
   ]
  },
  {
   "cell_type": "markdown",
   "metadata": {},
   "source": [
    "Insert detected onsets and offsets in epochs_events"
   ]
  },
  {
   "cell_type": "code",
   "execution_count": 9,
   "metadata": {},
   "outputs": [],
   "source": [
    "code_onset = 4\n",
    "onsets_events = myo.Events(sample=onsets, time=epoch_time[onsets], code=[code_onset]*len(onsets), chan=[current_channel]*len(onsets), sf=epochs_events.sf)\n",
    "epochs_events.list_evts_trials[current_epoch].add_events(onsets_events)\n",
    "\n",
    "code_offset = 5\n",
    "offsets_events = myo.Events(sample=offsets, time=epoch_time[offsets], code=[code_offset]*len(offsets), chan=[current_channel]*len(offsets), sf=epochs_events.sf)\n",
    "epochs_events.list_evts_trials[current_epoch].add_events(offsets_events)"
   ]
  },
  {
   "cell_type": "markdown",
   "metadata": {},
   "source": [
    "### Loop on every trial and all EMG channels"
   ]
  },
  {
   "cell_type": "code",
   "execution_count": 10,
   "metadata": {},
   "outputs": [],
   "source": [
    "for current_epoch in range(epochs_events.nb_trials()):\n",
    "    for current_channel in [0,1]:\n",
    "        \n",
    "        onsets,offsets = myo.get_onsets(epochs_data[current_epoch,current_channel,:], epoch_time, sf=epochs_events.sf,\\\n",
    "                                        th_raw=5, use_raw=True, mbsl_raw=None, stbsl_raw=None,\\\n",
    "                                        th_tkeo=10, use_tkeo=True, mbsl_tkeo=None, stbsl_tkeo=None)\n",
    "        \n",
    "        # Put in event structure\n",
    "        onsets_events = myo.Events(sample=onsets, time=epoch_time[onsets],\\\n",
    "                                   code=[code_onset]*len(onsets), chan=[current_channel]*len(onsets), sf=epochs_events.sf) \n",
    "        offsets_events = myo.Events(sample=offsets, time=epoch_time[offsets],\\\n",
    "                                    code=[code_offset]*len(offsets), chan=[current_channel]*len(offsets), sf=epochs_events.sf) \n",
    "        \n",
    "        # Add in epochs events\n",
    "        epochs_events.list_evts_trials[current_epoch].add_events(onsets_events)\n",
    "        epochs_events.list_evts_trials[current_epoch].add_events(offsets_events)\n",
    "        "
   ]
  },
  {
   "cell_type": "markdown",
   "metadata": {},
   "source": [
    "# Save in new marker file"
   ]
  },
  {
   "cell_type": "markdown",
   "metadata": {},
   "source": [
    "First put epoch events in continuous time"
   ]
  },
  {
   "cell_type": "code",
   "execution_count": 11,
   "metadata": {},
   "outputs": [
    {
     "name": "stdout",
     "output_type": "stream",
     "text": [
      "Checking for duplicates in events...\n",
      "6 event(s) removed.\n"
     ]
    }
   ],
   "source": [
    "events_with_detection = epochs_events.as_continuous(drop_duplic=True)[0]"
   ]
  },
  {
   "cell_type": "markdown",
   "metadata": {},
   "source": [
    "Combine with original events"
   ]
  },
  {
   "cell_type": "code",
   "execution_count": 12,
   "metadata": {},
   "outputs": [
    {
     "name": "stdout",
     "output_type": "stream",
     "text": [
      "Checking for duplicates in events...\n",
      "48 event(s) removed.\n"
     ]
    }
   ],
   "source": [
    "events_with_detection.add_events(events, drop_duplic=True)"
   ]
  },
  {
   "cell_type": "markdown",
   "metadata": {},
   "source": [
    "Save events with detection"
   ]
  },
  {
   "cell_type": "code",
   "execution_count": 13,
   "metadata": {},
   "outputs": [],
   "source": [
    "events_with_detection.to_csv('example_events_with_detection.csv')"
   ]
  }
 ],
 "metadata": {
  "kernelspec": {
   "display_name": "Python 3 (ipykernel)",
   "language": "python",
   "name": "python3"
  },
  "language_info": {
   "codemirror_mode": {
    "name": "ipython",
    "version": 3
   },
   "file_extension": ".py",
   "mimetype": "text/x-python",
   "name": "python",
   "nbconvert_exporter": "python",
   "pygments_lexer": "ipython3",
   "version": "3.11.4"
  }
 },
 "nbformat": 4,
 "nbformat_minor": 2
}
