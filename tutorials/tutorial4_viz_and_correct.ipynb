{
 "cells": [
  {
   "cell_type": "markdown",
   "metadata": {},
   "source": [
    "Make the import"
   ]
  },
  {
   "cell_type": "code",
   "execution_count": 1,
   "metadata": {},
   "outputs": [],
   "source": [
    "import numpy as np\n",
    "import myonset as myo\n",
    "import sys"
   ]
  },
  {
   "cell_type": "markdown",
   "metadata": {},
   "source": [
    "Load data and events"
   ]
  },
  {
   "cell_type": "code",
   "execution_count": 2,
   "metadata": {},
   "outputs": [],
   "source": [
    "data = np.load('example_data.npy')"
   ]
  },
  {
   "cell_type": "code",
   "execution_count": 3,
   "metadata": {},
   "outputs": [],
   "source": [
    "events = myo.load_continuous('example_events_with_detection.csv', col_sample=0, col_code=2, col_chan=3, sf=2048)"
   ]
  },
  {
   "cell_type": "markdown",
   "metadata": {},
   "source": [
    "Set trigger id values defining time 0 in visualization (e.g., stimulus or fixation cross): adapt to your experiment"
   ]
  },
  {
   "cell_type": "code",
   "execution_count": 4,
   "metadata": {},
   "outputs": [],
   "source": [
    "code_t0 = [11,12,21,22]"
   ]
  },
  {
   "cell_type": "markdown",
   "metadata": {},
   "source": [
    "Set trigger id used for onset and offset"
   ]
  },
  {
   "cell_type": "code",
   "execution_count": 5,
   "metadata": {},
   "outputs": [],
   "source": [
    "code_onset = 4\n",
    "code_offset = 5"
   ]
  },
  {
   "cell_type": "markdown",
   "metadata": {},
   "source": [
    "# Start visualization application"
   ]
  },
  {
   "cell_type": "markdown",
   "metadata": {},
   "source": [
    " **!!! IMPORTANT !!!**\n",
    " \n",
    " Do not run the cell below twice, this would cause your kernel stop working. If you have closed viz window and want to see it again, just run the command viz.show() (next cell)."
   ]
  },
  {
   "cell_type": "code",
   "execution_count": 6,
   "metadata": {},
   "outputs": [],
   "source": [
    "viz = myo.Viz(sys.argv)\n",
    "viz.load_data(data, events, code_t0,\\\n",
    "              tmin=-.5, tmax=1,\\\n",
    "              code_movable_1=code_onset, code_movable_2=code_offset)"
   ]
  },
  {
   "cell_type": "markdown",
   "metadata": {},
   "source": [
    "# Open viz window for correction"
   ]
  },
  {
   "cell_type": "markdown",
   "metadata": {},
   "source": [
    "A complete description is available in vizEMG guide, here is a reminder of useful commands:\n",
    "* Below signals, use the ‘Navig.’ tab to navigate across trials, and the ‘Config.’ tab to configurate data views and key shortcuts to jump to next/previous trial,\n",
    "* Use left and right mouse clicks in data view windows or data axis to pan and zoom in and out signals,\n",
    "* Vertical lines show marker events. Fixed events are displayed in yellow, no interaction is possible with those. Dark and light blue lines show events resulting from onset and offset automatic detection. With those, you can:\n",
    "    * left click on the marker + drag to adjust event time position,\n",
    "    * right click on the marker to suppress the event,\n",
    "    * Ctrl key + left click to add an onset (dark blue) event,\n",
    "    * Ctrkey + right click to add an offset (light blue) event.\n",
    "* Markers modifications are automatically validated by jumping to a new trial."
   ]
  },
  {
   "cell_type": "code",
   "execution_count": 7,
   "metadata": {
    "scrolled": true
   },
   "outputs": [
    {
     "name": "stdout",
     "output_type": "stream",
     "text": [
      "Saving events in viz_events.csv...\n",
      "Closing...\n"
     ]
    }
   ],
   "source": [
    "viz.show()"
   ]
  },
  {
   "cell_type": "markdown",
   "metadata": {},
   "source": [
    "# Extract corrected events and save"
   ]
  },
  {
   "cell_type": "code",
   "execution_count": 8,
   "metadata": {},
   "outputs": [],
   "source": [
    "corrected_events = viz.get_events()"
   ]
  },
  {
   "cell_type": "markdown",
   "metadata": {},
   "source": [
    "Save corrected events"
   ]
  },
  {
   "cell_type": "code",
   "execution_count": 9,
   "metadata": {},
   "outputs": [],
   "source": [
    "corrected_events.to_csv('example_events_with_detection_corrected.csv',\\\n",
    "                        header=\"sample,time,code,chan\",\\\n",
    "                        sep=',', save_sample=True, save_time=True, save_code=True, save_chan=True,\\\n",
    "                        save_trial_idx=False)"
   ]
  }
 ],
 "metadata": {
  "kernelspec": {
   "display_name": "Python 3 (ipykernel)",
   "language": "python",
   "name": "python3"
  },
  "language_info": {
   "codemirror_mode": {
    "name": "ipython",
    "version": 3
   },
   "file_extension": ".py",
   "mimetype": "text/x-python",
   "name": "python",
   "nbconvert_exporter": "python",
   "pygments_lexer": "ipython3",
   "version": "3.11.5"
  }
 },
 "nbformat": 4,
 "nbformat_minor": 2
}
