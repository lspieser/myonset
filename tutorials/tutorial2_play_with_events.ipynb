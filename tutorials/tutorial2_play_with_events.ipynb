{
 "cells": [
  {
   "cell_type": "code",
   "execution_count": 1,
   "id": "50cb06ba",
   "metadata": {},
   "outputs": [],
   "source": [
    "from myonset import Events"
   ]
  },
  {
   "cell_type": "markdown",
   "id": "92f9301e",
   "metadata": {},
   "source": [
    "## One simple Events object"
   ]
  },
  {
   "cell_type": "markdown",
   "id": "40f942cb",
   "metadata": {},
   "source": [
    "In this object, 5 events are stored, they occured at time latencies 1s, 2s, 3s, 4s and 5s. They all have the same code, (``1``), and are not associated with a particular channel (``chan = -1``, our convention for events not associated with a channel). "
   ]
  },
  {
   "cell_type": "code",
   "execution_count": 19,
   "id": "0866fd67",
   "metadata": {},
   "outputs": [],
   "source": [
    "simple_evts = Events(time=[1,2,3,4,5], code=[1]*5, chan=[-1]*5, sf=1024)"
   ]
  },
  {
   "cell_type": "markdown",
   "id": "e0546003",
   "metadata": {},
   "source": [
    "Event latencies are stored in ``lat`` object, in which latencies are stores in both time (in s) and samples. "
   ]
  },
  {
   "cell_type": "code",
   "execution_count": 21,
   "id": "6c4b746d",
   "metadata": {},
   "outputs": [
    {
     "name": "stdout",
     "output_type": "stream",
     "text": [
      "class Latency, 5 events, sf = 1024.0, sample: [1024 2048 3072 4096 5120], time: [1 2 3 4 5]\n",
      "signal sampling frequency: 1024.0\n",
      "events samples: [1024 2048 3072 4096 5120]\n",
      "events times(s): [1 2 3 4 5]\n"
     ]
    }
   ],
   "source": [
    "print(simple_evts.lat)\n",
    "print('signal sampling frequency: {}'.format(simple_evts.lat.sf))\n",
    "print('events samples: {}'.format(simple_evts.lat.sample))\n",
    "print('events times(s): {}'.format(simple_evts.lat.time))"
   ]
  },
  {
   "cell_type": "markdown",
   "id": "c04b3405",
   "metadata": {},
   "source": [
    "## One real Events object"
   ]
  },
  {
   "cell_type": "markdown",
   "id": "02fcc67a",
   "metadata": {},
   "source": [
    "Example of one Events object containing two trials (stimulus code is ``4``, response codes are ``16`` and ``32``). "
   ]
  },
  {
   "cell_type": "code",
   "execution_count": 4,
   "id": "d0d09a3f",
   "metadata": {},
   "outputs": [
    {
     "name": "stdout",
     "output_type": "stream",
     "text": [
      "class Events, 7 events, sf = 1024.0 \n",
      " latency: class Latency, 7 events, sf = 1024.0, sample: [1024 1536 1662 1718 3584 3798 3876], time: [1.    1.5   1.623 1.678 3.5   3.709 3.785] \n",
      " code: ['2' '4' 'onset' '16' '4' 'onset' '32'] \n",
      " chan: [-1 -1  0 -1 -1  1 -1]\n"
     ]
    }
   ],
   "source": [
    "exp_evts = Events(time=[1,1.5,1.623,1.678,3.5,3.709,3.785], code=[2,4,'onset',16,4,'onset',32],\n",
    "                  chan=[-1,-1,0,-1,-1,1,-1], sf=1024)\n",
    "print(exp_evts)"
   ]
  },
  {
   "cell_type": "markdown",
   "id": "10e9afd3",
   "metadata": {},
   "source": [
    "EMG onsets are coded ``onset`` and are associated with a specific channel: channel ``0`` for first onset and channel ``1`` for second onset. To access those particular events:"
   ]
  },
  {
   "cell_type": "code",
   "execution_count": 5,
   "id": "7650873a",
   "metadata": {},
   "outputs": [
    {
     "name": "stdout",
     "output_type": "stream",
     "text": [
      "class Events, 1 events, sf = 1024.0 \n",
      " latency: class Latency, 1 events, sf = 1024.0, sample: [1662], time: [1.623] \n",
      " code: ['onset'] \n",
      " chan: [0]\n",
      "class Events, 1 events, sf = 1024.0 \n",
      " latency: class Latency, 1 events, sf = 1024.0, sample: [3798], time: [3.709] \n",
      " code: ['onset'] \n",
      " chan: [1]\n"
     ]
    }
   ],
   "source": [
    "print(exp_evts.get_events(2))\n",
    "print(exp_evts.get_events(5))"
   ]
  },
  {
   "cell_type": "markdown",
   "id": "63a6153b",
   "metadata": {},
   "source": [
    "To find and get all events with a particular code, or associated with a particular channel, use:"
   ]
  },
  {
   "cell_type": "code",
   "execution_count": 6,
   "id": "b08638e7",
   "metadata": {
    "scrolled": true
   },
   "outputs": [
    {
     "name": "stdout",
     "output_type": "stream",
     "text": [
      "3 event(s) selected.\n"
     ]
    },
    {
     "data": {
      "text/plain": [
       "class Events, 3 events, sf = 1024.0 \n",
       " latency: class Latency, 3 events, sf = 1024.0, sample: [1024 1536 3584], time: [1.  1.5 3.5] \n",
       " code: ['2' '4' '4'] \n",
       " chan: [-1 -1 -1]"
      ]
     },
     "execution_count": 6,
     "metadata": {},
     "output_type": "execute_result"
    }
   ],
   "source": [
    "exp_evts.find_and_get_events(code=['2','4'])"
   ]
  },
  {
   "cell_type": "markdown",
   "id": "3cf40e0f",
   "metadata": {},
   "source": [
    "Note that, when specifying several values for one attribute (for instance here several codes), events whose attribute is equal to either value is selected. If several attributes are filled however, only events satisfying all requirements are selected:"
   ]
  },
  {
   "cell_type": "code",
   "execution_count": 7,
   "id": "8ca30c83",
   "metadata": {},
   "outputs": [
    {
     "name": "stdout",
     "output_type": "stream",
     "text": [
      "Event(s) not found, nothing was selected.\n"
     ]
    },
    {
     "data": {
      "text/plain": [
       "class Events, 0 events, sf = 1024.0 \n",
       " latency: class Latency, 0 events, sf = 1024.0, sample: [], time: [] \n",
       " code: [] \n",
       " chan: []"
      ]
     },
     "execution_count": 7,
     "metadata": {},
     "output_type": "execute_result"
    }
   ],
   "source": [
    "exp_evts.find_and_get_events(code=['2','4'],chan=0)"
   ]
  },
  {
   "cell_type": "markdown",
   "id": "31992e06",
   "metadata": {},
   "source": [
    "## Epoch events"
   ]
  },
  {
   "cell_type": "markdown",
   "id": "86ab49f4",
   "metadata": {},
   "source": [
    "The ``EpochEvents`` object is used to store segmented events (or epoch events). ``EpochEvents`` can be obtained by epoching ``Events`` objects, based on the position of reference events for instance. The code of the reference event(s) is defined by the parameter ``code_t0``."
   ]
  },
  {
   "cell_type": "code",
   "execution_count": 8,
   "id": "c59930eb",
   "metadata": {},
   "outputs": [
    {
     "name": "stdout",
     "output_type": "stream",
     "text": [
      "Found 2 epoch(s).\n",
      "class EpochEvents, 2 trials, 7 events, sf = 1024.0 \n"
     ]
    }
   ],
   "source": [
    "epochs_evts = exp_evts.segment(code_t0=['4'], tmin=-0.5, tmax = 1)\n",
    "print(epochs_evts)"
   ]
  },
  {
   "cell_type": "markdown",
   "id": "3dc0e788",
   "metadata": {},
   "source": [
    "The attribute ``list_evts_trials`` contains the list of ``Events`` object corresponding to each trial. For instance, for trial 0:"
   ]
  },
  {
   "cell_type": "code",
   "execution_count": 9,
   "id": "b28727a2",
   "metadata": {},
   "outputs": [
    {
     "data": {
      "text/plain": [
       "class Events, 4 events, sf = 1024.0 \n",
       " latency: class Latency, 4 events, sf = 1024.0, sample: [  0 512 638 694], time: [-0.5    0.     0.123  0.178] \n",
       " code: ['2' '4' 'onset' '16'] \n",
       " chan: [-1 -1  0 -1]"
      ]
     },
     "execution_count": 9,
     "metadata": {},
     "output_type": "execute_result"
    }
   ],
   "source": [
    "epochs_evts.list_evts_trials[0]"
   ]
  },
  {
   "cell_type": "markdown",
   "id": "322492ab",
   "metadata": {},
   "source": [
    "The attributes ``tmin``, ``t0`` and ``tmax`` contain ``Latency`` objects storing the starting, time 0 and ending latency of each trial:"
   ]
  },
  {
   "cell_type": "code",
   "execution_count": 10,
   "id": "5020c1ec",
   "metadata": {},
   "outputs": [
    {
     "data": {
      "text/plain": [
       "class Latency, 2 events, sf = 1024.0, sample: [1536 3584], time: [1.5 3.5]"
      ]
     },
     "execution_count": 10,
     "metadata": {},
     "output_type": "execute_result"
    }
   ],
   "source": [
    "epochs_evts.t0"
   ]
  },
  {
   "cell_type": "markdown",
   "id": "6f67dce6",
   "metadata": {},
   "source": [
    "The method ``as_continuous`` allows to switch back to continuous events from the epoch events:"
   ]
  },
  {
   "cell_type": "code",
   "execution_count": 11,
   "id": "32fd6708",
   "metadata": {},
   "outputs": [
    {
     "name": "stdout",
     "output_type": "stream",
     "text": [
      "Checking for duplicates in events...\n",
      "0 event(s) removed.\n"
     ]
    },
    {
     "data": {
      "text/plain": [
       "(class Events, 7 events, sf = 1024.0 \n",
       "  latency: class Latency, 7 events, sf = 1024.0, sample: [1024 1536 1662 1718 3584 3798 3876], time: [1.    1.5   1.623 1.678 3.5   3.709 3.785] \n",
       "  code: ['2' '4' 'onset' '16' '4' 'onset' '32'] \n",
       "  chan: [-1 -1  0 -1 -1  1 -1],\n",
       " array([0, 0, 0, 0, 1, 1, 1]))"
      ]
     },
     "execution_count": 11,
     "metadata": {},
     "output_type": "execute_result"
    }
   ],
   "source": [
    "epochs_evts.as_continuous()"
   ]
  },
  {
   "cell_type": "markdown",
   "id": "8b434560",
   "metadata": {},
   "source": [
    "Note that events outside the epochs boundaries are lost: if epochs are defined from 0 to 0.15s around stimulus, all events not falling in this interval will not be recovered using the ``as_continuous`` method:"
   ]
  },
  {
   "cell_type": "code",
   "execution_count": 12,
   "id": "a19bdbdc",
   "metadata": {},
   "outputs": [
    {
     "name": "stdout",
     "output_type": "stream",
     "text": [
      "Found 2 epoch(s).\n",
      "class Events, 2 events, sf = 1024.0 \n",
      " latency: class Latency, 2 events, sf = 1024.0, sample: [  0 126], time: [0.    0.123] \n",
      " code: ['4' 'onset'] \n",
      " chan: [-1  0]\n"
     ]
    }
   ],
   "source": [
    "short_epochs = exp_evts.segment(code_t0=['4'], tmin=0, tmax = 0.15)\n",
    "print(short_epochs.list_evts_trials[0])"
   ]
  },
  {
   "cell_type": "code",
   "execution_count": 13,
   "id": "ab0e2b5c",
   "metadata": {},
   "outputs": [
    {
     "name": "stdout",
     "output_type": "stream",
     "text": [
      "Checking for duplicates in events...\n",
      "0 event(s) removed.\n",
      "class Events, 3 events, sf = 1024.0 \n",
      " latency: class Latency, 3 events, sf = 1024.0, sample: [1536 1662 3584], time: [1.5   1.623 3.5  ] \n",
      " code: ['4' 'onset' '4'] \n",
      " chan: [-1  0 -1]\n"
     ]
    }
   ],
   "source": [
    "continuous_evts = short_epochs.as_continuous()[0]\n",
    "print(continuous_evts)"
   ]
  },
  {
   "cell_type": "markdown",
   "id": "955bd32d",
   "metadata": {},
   "source": [
    "To avoid losing events, one good practice is to always combine original continuous events with the events resulting from ``as_continuous`` method. By setting the parameter ``drop_duplic`` to True, duplicated events will be removed automatically. "
   ]
  },
  {
   "cell_type": "code",
   "execution_count": 14,
   "id": "5c9df6e8",
   "metadata": {},
   "outputs": [
    {
     "name": "stdout",
     "output_type": "stream",
     "text": [
      "Checking for duplicates in events...\n",
      "3 event(s) removed.\n",
      "class Events, 7 events, sf = 1024.0 \n",
      " latency: class Latency, 7 events, sf = 1024.0, sample: [1024 1536 1662 1718 3584 3798 3876], time: [1.    1.5   1.623 1.678 3.5   3.709 3.785] \n",
      " code: ['2' '4' 'onset' '16' '4' 'onset' '32'] \n",
      " chan: [-1 -1  0 -1 -1  1 -1]\n"
     ]
    }
   ],
   "source": [
    "continuous_evts.add_events(exp_evts, drop_duplic=True)\n",
    "print(continuous_evts)"
   ]
  }
 ],
 "metadata": {
  "kernelspec": {
   "display_name": "Python 3 (ipykernel)",
   "language": "python",
   "name": "python3"
  },
  "language_info": {
   "codemirror_mode": {
    "name": "ipython",
    "version": 3
   },
   "file_extension": ".py",
   "mimetype": "text/x-python",
   "name": "python",
   "nbconvert_exporter": "python",
   "pygments_lexer": "ipython3",
   "version": "3.11.4"
  }
 },
 "nbformat": 4,
 "nbformat_minor": 5
}
